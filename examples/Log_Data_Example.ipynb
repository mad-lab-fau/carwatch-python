{
 "cells": [
  {
   "cell_type": "markdown",
   "metadata": {},
   "source": [
    "# Log Data Example"
   ]
  },
  {
   "cell_type": "markdown",
   "metadata": {},
   "source": [
    "<div class=\"alert alert-block alert-info\">\n",
    "    \n",
    "This example demonstrates how to import and process data from the [CARWatch App](https://play.google.com/store/apps/details?id=de.fau.cs.mad.carwatch) used to record logs during cortisol awakening response (CAR) assessment studies at home.\n",
    "  \n",
    "</div>"
   ]
  },
  {
   "cell_type": "markdown",
   "metadata": {},
   "source": [
    "## Imports and Helper Functions"
   ]
  },
  {
   "cell_type": "code",
   "execution_count": 1,
   "metadata": {
    "tags": []
   },
   "outputs": [],
   "source": [
    "from pathlib import Path\n",
    "\n",
    "import pandas as pd\n",
    "import numpy as np\n",
    "\n",
    "from pprint import pprint\n",
    "import matplotlib.pyplot as plt\n",
    "import seaborn as sns\n",
    "\n",
    "from carwatch.logs import ParticipantLogs, StudyLogs\n",
    "\n",
    "%load_ext autoreload\n",
    "%autoreload 2\n",
    "%matplotlib widget"
   ]
  },
  {
   "cell_type": "code",
   "execution_count": 2,
   "metadata": {
    "tags": []
   },
   "outputs": [
    {
     "name": "stdout",
     "output_type": "stream",
     "text": [
      "[PosixPath('../example_data/complete'),\n",
      " PosixPath('../example_data/corrupt'),\n",
      " PosixPath('../example_data/missing_awakening'),\n",
      " PosixPath('../example_data/missing_samples')]\n"
     ]
    }
   ],
   "source": [
    "base_path = Path(\"../example_data\")\n",
    "\n",
    "pprint([f for f in sorted(base_path.glob(\"*\")) if f.is_dir() and not f.name.startswith(\".\")])"
   ]
  },
  {
   "cell_type": "markdown",
   "metadata": {},
   "source": [
    "## Log Files from Single Participant (`ParticipantLogs`)"
   ]
  },
  {
   "cell_type": "markdown",
   "metadata": {},
   "source": [
    "Log files can either be imported by (1) loading the `.zip` files obtained by the *CARWatch App* or (2) by loading a folder from a participant what contains the log files as `.csv` files.\n",
    "\n",
    "For (1), the file structure is assumed to look like:\n",
    "```\n",
    ". (base folder)\n",
    "├── logs_ABC12.zip\n",
    "├── logs_DEF34.zip\n",
    "├── logs_GHI56.zip\n",
    "├── logs_JKL78.zip\n",
    "...\n",
    "```\n",
    "\n",
    "For (2), the file structure is assumed to look like:\n",
    "```\n",
    ". (base folder)\n",
    "├── ABC12/\n",
    "│   ├── carwatch_abc12_20200101.csv\n",
    "│   ├── carwatch_abc12_20200102.csv\n",
    "│   └── carwatch_abc12_20200103.csv\n",
    "├── DEF34/\n",
    "│   ├── carwatch_def34_20200201.csv\n",
    "│   ├── carwatch_def34_20200202.csv\n",
    "│   └── carwatch_def34_20200203.csv\n",
    "...\n",
    "```"
   ]
  },
  {
   "cell_type": "markdown",
   "metadata": {},
   "source": [
    "### Import"
   ]
  },
  {
   "cell_type": "markdown",
   "metadata": {},
   "source": [
    "#### From zip File"
   ]
  },
  {
   "cell_type": "markdown",
   "metadata": {},
   "source": [
    "This example assumes simply loads a zipped log file from one participant as it was exported by the CARWatch application (case (1) in the explanation above). Thus, we search for files that end with `*.zip`."
   ]
  },
  {
   "cell_type": "code",
   "execution_count": 3,
   "metadata": {
    "tags": []
   },
   "outputs": [
    {
     "data": {
      "text/plain": [
       "[PosixPath('../example_data/complete/zip_files/logs_AB12C.zip'),\n",
       " PosixPath('../example_data/complete/zip_files/logs_DE34F.zip'),\n",
       " PosixPath('../example_data/complete/zip_files/logs_GH56I.zip')]"
      ]
     },
     "execution_count": 3,
     "metadata": {},
     "output_type": "execute_result"
    }
   ],
   "source": [
    "# show contents of the example data folder\n",
    "log_files = sorted(base_path.joinpath(\"complete/zip_files\").glob(\"*.zip\"))\n",
    "log_files"
   ]
  },
  {
   "cell_type": "markdown",
   "metadata": {},
   "source": [
    "Select one file and import the participant logs\n",
    "\n",
    "**Note:** Per default, the log files are simply loaded from the zip file and not extracted.\n",
    "If you want to extract the log files from the zip file, you can set `extract_folder=True`. This will create a folder with the same name as the zip file and extract the log files into this folder. If you additionally, want to overwrite existing log files in the folder, you can set `overwrite_unzipped_logs=True`."
   ]
  },
  {
   "cell_type": "code",
   "execution_count": 4,
   "metadata": {
    "tags": []
   },
   "outputs": [],
   "source": [
    "# Load log data from zip file:\n",
    "zip_path = Path(log_files[0])\n",
    "log = ParticipantLogs.from_zip_file(zip_path, extract_folder=False, overwrite_unzipped_logs=False)"
   ]
  },
  {
   "cell_type": "markdown",
   "metadata": {},
   "source": [
    "Print some information about the participant"
   ]
  },
  {
   "cell_type": "code",
   "execution_count": 5,
   "metadata": {
    "collapsed": false,
    "jupyter": {
     "outputs_hidden": false
    }
   },
   "outputs": [
    {
     "name": "stdout",
     "output_type": "stream",
     "text": [
      "Subject ID: AB12C\n",
      "Start date: 2019-12-05 00:00:00+01:00\n",
      "End date: 2019-12-08 00:00:00+01:00\n"
     ]
    }
   ],
   "source": [
    "print(f\"Subject ID: {log.subject_id}\")\n",
    "print(f\"Start date: {log.start_date}\")\n",
    "print(f\"End date: {log.end_date}\")"
   ]
  },
  {
   "cell_type": "markdown",
   "metadata": {},
   "source": [
    "Print some log metadata"
   ]
  },
  {
   "cell_type": "code",
   "execution_count": 6,
   "metadata": {
    "collapsed": false,
    "jupyter": {
     "outputs_hidden": false
    }
   },
   "outputs": [
    {
     "name": "stdout",
     "output_type": "stream",
     "text": [
      "App version: 1.1.0\n",
      "Android Version: 28\n",
      "Smartphone Model: ONEPLUS A6013\n",
      "Smartphone Manufacturer: OnePlus\n"
     ]
    }
   ],
   "source": [
    "print(f\"App version: {log.app_version}\")\n",
    "print(f\"Android Version: {log.android_version}\")\n",
    "print(f\"Smartphone Model: {log.phone_model}\")\n",
    "print(f\"Smartphone Manufacturer: {log.phone_manufacturer}\")"
   ]
  },
  {
   "cell_type": "markdown",
   "metadata": {},
   "source": [
    "Convert the log files into a dataframe"
   ]
  },
  {
   "cell_type": "code",
   "execution_count": 7,
   "metadata": {
    "collapsed": false,
    "jupyter": {
     "outputs_hidden": false
    }
   },
   "outputs": [
    {
     "data": {
      "text/html": [
       "<div>\n",
       "<style scoped>\n",
       "    .dataframe tbody tr th:only-of-type {\n",
       "        vertical-align: middle;\n",
       "    }\n",
       "\n",
       "    .dataframe tbody tr th {\n",
       "        vertical-align: top;\n",
       "    }\n",
       "\n",
       "    .dataframe thead th {\n",
       "        text-align: right;\n",
       "    }\n",
       "</style>\n",
       "<table border=\"1\" class=\"dataframe\">\n",
       "  <thead>\n",
       "    <tr style=\"text-align: right;\">\n",
       "      <th></th>\n",
       "      <th>action</th>\n",
       "      <th>extras</th>\n",
       "    </tr>\n",
       "    <tr>\n",
       "      <th>time</th>\n",
       "      <th></th>\n",
       "      <th></th>\n",
       "    </tr>\n",
       "  </thead>\n",
       "  <tbody>\n",
       "    <tr>\n",
       "      <th>2019-12-05 10:50:29.038000+01:00</th>\n",
       "      <td>subject_id_set</td>\n",
       "      <td>{\"subject_id\": \"AB12C\", \"subject_condition\": \"...</td>\n",
       "    </tr>\n",
       "    <tr>\n",
       "      <th>2019-12-05 10:50:29.039000+01:00</th>\n",
       "      <td>app_metadata</td>\n",
       "      <td>{\"version_code\": 10100, \"version_name\": \"1.1.0...</td>\n",
       "    </tr>\n",
       "    <tr>\n",
       "      <th>2019-12-05 10:50:29.039000+01:00</th>\n",
       "      <td>phone_metadata</td>\n",
       "      <td>{\"brand\": \"OnePlus\", \"manufacturer\": \"OnePlus\"...</td>\n",
       "    </tr>\n",
       "    <tr>\n",
       "      <th>2019-12-06 22:53:11.157000+01:00</th>\n",
       "      <td>evening_salivette</td>\n",
       "      <td>{\"id\": 815}</td>\n",
       "    </tr>\n",
       "    <tr>\n",
       "      <th>2019-12-06 22:53:15.200000+01:00</th>\n",
       "      <td>barcode_scan_init</td>\n",
       "      <td>{}</td>\n",
       "    </tr>\n",
       "  </tbody>\n",
       "</table>\n",
       "</div>"
      ],
      "text/plain": [
       "                                             action  \\\n",
       "time                                                  \n",
       "2019-12-05 10:50:29.038000+01:00     subject_id_set   \n",
       "2019-12-05 10:50:29.039000+01:00       app_metadata   \n",
       "2019-12-05 10:50:29.039000+01:00     phone_metadata   \n",
       "2019-12-06 22:53:11.157000+01:00  evening_salivette   \n",
       "2019-12-06 22:53:15.200000+01:00  barcode_scan_init   \n",
       "\n",
       "                                                                             extras  \n",
       "time                                                                                 \n",
       "2019-12-05 10:50:29.038000+01:00  {\"subject_id\": \"AB12C\", \"subject_condition\": \"...  \n",
       "2019-12-05 10:50:29.039000+01:00  {\"version_code\": 10100, \"version_name\": \"1.1.0...  \n",
       "2019-12-05 10:50:29.039000+01:00  {\"brand\": \"OnePlus\", \"manufacturer\": \"OnePlus\"...  \n",
       "2019-12-06 22:53:11.157000+01:00                                        {\"id\": 815}  \n",
       "2019-12-06 22:53:15.200000+01:00                                                 {}  "
      ]
     },
     "execution_count": 7,
     "metadata": {},
     "output_type": "execute_result"
    }
   ],
   "source": [
    "df = log.data_as_df()\n",
    "df.head()"
   ]
  },
  {
   "cell_type": "markdown",
   "metadata": {},
   "source": [
    "Split Log Data by Sampling Days"
   ]
  },
  {
   "cell_type": "code",
   "execution_count": 8,
   "metadata": {
    "tags": []
   },
   "outputs": [
    {
     "data": {
      "text/html": [
       "<div>\n",
       "<style scoped>\n",
       "    .dataframe tbody tr th:only-of-type {\n",
       "        vertical-align: middle;\n",
       "    }\n",
       "\n",
       "    .dataframe tbody tr th {\n",
       "        vertical-align: top;\n",
       "    }\n",
       "\n",
       "    .dataframe thead th {\n",
       "        text-align: right;\n",
       "    }\n",
       "</style>\n",
       "<table border=\"1\" class=\"dataframe\">\n",
       "  <thead>\n",
       "    <tr style=\"text-align: right;\">\n",
       "      <th></th>\n",
       "      <th></th>\n",
       "      <th>action</th>\n",
       "      <th>extras</th>\n",
       "    </tr>\n",
       "    <tr>\n",
       "      <th>date</th>\n",
       "      <th>time</th>\n",
       "      <th></th>\n",
       "      <th></th>\n",
       "    </tr>\n",
       "  </thead>\n",
       "  <tbody>\n",
       "    <tr>\n",
       "      <th rowspan=\"3\" valign=\"top\">2019-12-05</th>\n",
       "      <th>2019-12-05 10:50:29.038000+01:00</th>\n",
       "      <td>subject_id_set</td>\n",
       "      <td>{\"subject_id\": \"AB12C\", \"subject_condition\": \"...</td>\n",
       "    </tr>\n",
       "    <tr>\n",
       "      <th>2019-12-05 10:50:29.039000+01:00</th>\n",
       "      <td>app_metadata</td>\n",
       "      <td>{\"version_code\": 10100, \"version_name\": \"1.1.0...</td>\n",
       "    </tr>\n",
       "    <tr>\n",
       "      <th>2019-12-05 10:50:29.039000+01:00</th>\n",
       "      <td>phone_metadata</td>\n",
       "      <td>{\"brand\": \"OnePlus\", \"manufacturer\": \"OnePlus\"...</td>\n",
       "    </tr>\n",
       "    <tr>\n",
       "      <th rowspan=\"2\" valign=\"top\">2019-12-07</th>\n",
       "      <th>2019-12-06 22:53:11.157000+01:00</th>\n",
       "      <td>evening_salivette</td>\n",
       "      <td>{\"id\": 815}</td>\n",
       "    </tr>\n",
       "    <tr>\n",
       "      <th>2019-12-06 22:53:15.200000+01:00</th>\n",
       "      <td>barcode_scan_init</td>\n",
       "      <td>{}</td>\n",
       "    </tr>\n",
       "    <tr>\n",
       "      <th>...</th>\n",
       "      <th>...</th>\n",
       "      <td>...</td>\n",
       "      <td>...</td>\n",
       "    </tr>\n",
       "    <tr>\n",
       "      <th>2019-12-08</th>\n",
       "      <th>2019-12-08 09:48:05.257000+01:00</th>\n",
       "      <td>day_finished</td>\n",
       "      <td>{\"day_counter\": 1}</td>\n",
       "    </tr>\n",
       "    <tr>\n",
       "      <th rowspan=\"4\" valign=\"top\">2019-12-09</th>\n",
       "      <th>2019-12-08 22:28:30.238000+01:00</th>\n",
       "      <td>evening_salivette</td>\n",
       "      <td>{\"id\": 815}</td>\n",
       "    </tr>\n",
       "    <tr>\n",
       "      <th>2019-12-08 22:28:33.620000+01:00</th>\n",
       "      <td>barcode_scan_init</td>\n",
       "      <td>{}</td>\n",
       "    </tr>\n",
       "    <tr>\n",
       "      <th>2019-12-08 22:29:10.776000+01:00</th>\n",
       "      <td>barcode_scanned</td>\n",
       "      <td>{\"id\": 815, \"saliva_id\": 5, \"barcode_value\": \"...</td>\n",
       "    </tr>\n",
       "    <tr>\n",
       "      <th>2019-12-08 22:31:17.593000+01:00</th>\n",
       "      <td>service_started</td>\n",
       "      <td>{}</td>\n",
       "    </tr>\n",
       "  </tbody>\n",
       "</table>\n",
       "<p>83 rows × 2 columns</p>\n",
       "</div>"
      ],
      "text/plain": [
       "                                                        action  \\\n",
       "date       time                                                  \n",
       "2019-12-05 2019-12-05 10:50:29.038000+01:00     subject_id_set   \n",
       "           2019-12-05 10:50:29.039000+01:00       app_metadata   \n",
       "           2019-12-05 10:50:29.039000+01:00     phone_metadata   \n",
       "2019-12-07 2019-12-06 22:53:11.157000+01:00  evening_salivette   \n",
       "           2019-12-06 22:53:15.200000+01:00  barcode_scan_init   \n",
       "...                                                        ...   \n",
       "2019-12-08 2019-12-08 09:48:05.257000+01:00       day_finished   \n",
       "2019-12-09 2019-12-08 22:28:30.238000+01:00  evening_salivette   \n",
       "           2019-12-08 22:28:33.620000+01:00  barcode_scan_init   \n",
       "           2019-12-08 22:29:10.776000+01:00    barcode_scanned   \n",
       "           2019-12-08 22:31:17.593000+01:00    service_started   \n",
       "\n",
       "                                                                                        extras  \n",
       "date       time                                                                                 \n",
       "2019-12-05 2019-12-05 10:50:29.038000+01:00  {\"subject_id\": \"AB12C\", \"subject_condition\": \"...  \n",
       "           2019-12-05 10:50:29.039000+01:00  {\"version_code\": 10100, \"version_name\": \"1.1.0...  \n",
       "           2019-12-05 10:50:29.039000+01:00  {\"brand\": \"OnePlus\", \"manufacturer\": \"OnePlus\"...  \n",
       "2019-12-07 2019-12-06 22:53:11.157000+01:00                                        {\"id\": 815}  \n",
       "           2019-12-06 22:53:15.200000+01:00                                                 {}  \n",
       "...                                                                                        ...  \n",
       "2019-12-08 2019-12-08 09:48:05.257000+01:00                                 {\"day_counter\": 1}  \n",
       "2019-12-09 2019-12-08 22:28:30.238000+01:00                                        {\"id\": 815}  \n",
       "           2019-12-08 22:28:33.620000+01:00                                                 {}  \n",
       "           2019-12-08 22:29:10.776000+01:00  {\"id\": 815, \"saliva_id\": 5, \"barcode_value\": \"...  \n",
       "           2019-12-08 22:31:17.593000+01:00                                                 {}  \n",
       "\n",
       "[83 rows x 2 columns]"
      ]
     },
     "execution_count": 8,
     "metadata": {},
     "output_type": "execute_result"
    }
   ],
   "source": [
    "log.split_sampling_days()"
   ]
  },
  {
   "cell_type": "markdown",
   "metadata": {},
   "source": [
    "#### From Folder"
   ]
  },
  {
   "cell_type": "markdown",
   "metadata": {},
   "source": [
    "This example assumes that the zipped log files from one participant are already unpacked and stored in one directory (case (2) in the explanation above). Thus, we search for directories that start with `logs_`.\n",
    "\n",
    "**Note:** While the variant above seems more straightforwards, as you don't have to unzip all log files, this method can be useful when the log files were already unzipped, e.g., because they were manually cleaned."
   ]
  },
  {
   "cell_type": "code",
   "execution_count": 9,
   "metadata": {
    "tags": []
   },
   "outputs": [
    {
     "data": {
      "text/plain": [
       "[PosixPath('../example_data/complete/folders/logs_AB12C'),\n",
       " PosixPath('../example_data/complete/folders/logs_DE34F'),\n",
       " PosixPath('../example_data/complete/folders/logs_GH56I')]"
      ]
     },
     "execution_count": 9,
     "metadata": {},
     "output_type": "execute_result"
    }
   ],
   "source": [
    "log_folders = [f for f in sorted(base_path.joinpath(\"complete/folders\").glob(\"*\")) if f.is_dir() and f.name.startswith(\"logs\")]\n",
    "log_folders"
   ]
  },
  {
   "cell_type": "markdown",
   "metadata": {},
   "source": [
    "\n",
    "### Filtering/Selecting"
   ]
  },
  {
   "cell_type": "markdown",
   "metadata": {},
   "source": [
    "Filter by Action"
   ]
  },
  {
   "cell_type": "code",
   "execution_count": 14,
   "metadata": {
    "collapsed": false,
    "jupyter": {
     "outputs_hidden": false
    },
    "tags": []
   },
   "outputs": [
    {
     "data": {
      "text/html": [
       "<div>\n",
       "<style scoped>\n",
       "    .dataframe tbody tr th:only-of-type {\n",
       "        vertical-align: middle;\n",
       "    }\n",
       "\n",
       "    .dataframe tbody tr th {\n",
       "        vertical-align: top;\n",
       "    }\n",
       "\n",
       "    .dataframe thead th {\n",
       "        text-align: right;\n",
       "    }\n",
       "</style>\n",
       "<table border=\"1\" class=\"dataframe\">\n",
       "  <thead>\n",
       "    <tr style=\"text-align: right;\">\n",
       "      <th></th>\n",
       "      <th>action</th>\n",
       "      <th>extras</th>\n",
       "    </tr>\n",
       "    <tr>\n",
       "      <th>time</th>\n",
       "      <th></th>\n",
       "      <th></th>\n",
       "    </tr>\n",
       "  </thead>\n",
       "  <tbody>\n",
       "    <tr>\n",
       "      <th>2019-12-05 22:41:18.723000+01:00</th>\n",
       "      <td>barcode_scanned</td>\n",
       "      <td>{\"id\": 815, \"saliva_id\": 5, \"barcode_value\": \"...</td>\n",
       "    </tr>\n",
       "    <tr>\n",
       "      <th>2019-12-06 08:52:42.569000+01:00</th>\n",
       "      <td>barcode_scanned</td>\n",
       "      <td>{\"id\": 4711, \"saliva_id\": 0, \"barcode_value\": ...</td>\n",
       "    </tr>\n",
       "    <tr>\n",
       "      <th>2019-12-06 09:08:01.685000+01:00</th>\n",
       "      <td>barcode_scanned</td>\n",
       "      <td>{\"id\": 37478, \"saliva_id\": 1, \"barcode_value\":...</td>\n",
       "    </tr>\n",
       "    <tr>\n",
       "      <th>2019-12-06 09:23:18.166000+01:00</th>\n",
       "      <td>barcode_scanned</td>\n",
       "      <td>{\"id\": 70245, \"saliva_id\": 2, \"barcode_value\":...</td>\n",
       "    </tr>\n",
       "    <tr>\n",
       "      <th>2019-12-06 09:38:36.232000+01:00</th>\n",
       "      <td>barcode_scanned</td>\n",
       "      <td>{\"id\": 103012, \"saliva_id\": 3, \"barcode_value\"...</td>\n",
       "    </tr>\n",
       "    <tr>\n",
       "      <th>2019-12-06 09:53:50.331000+01:00</th>\n",
       "      <td>barcode_scanned</td>\n",
       "      <td>{\"id\": 135779, \"saliva_id\": 4, \"barcode_value\"...</td>\n",
       "    </tr>\n",
       "    <tr>\n",
       "      <th>2019-12-06 23:24:39.316000+01:00</th>\n",
       "      <td>barcode_scanned</td>\n",
       "      <td>{\"id\": 815, \"saliva_id\": 5, \"barcode_value\": \"...</td>\n",
       "    </tr>\n",
       "    <tr>\n",
       "      <th>2019-12-07 08:56:22.795000+01:00</th>\n",
       "      <td>barcode_scanned</td>\n",
       "      <td>{\"id\": 4711, \"saliva_id\": 0, \"barcode_value\": ...</td>\n",
       "    </tr>\n",
       "    <tr>\n",
       "      <th>2019-12-07 09:11:36.360000+01:00</th>\n",
       "      <td>barcode_scanned</td>\n",
       "      <td>{\"id\": 37478, \"saliva_id\": 1, \"barcode_value\":...</td>\n",
       "    </tr>\n",
       "    <tr>\n",
       "      <th>2019-12-07 09:26:44.887000+01:00</th>\n",
       "      <td>barcode_scanned</td>\n",
       "      <td>{\"id\": 70245, \"saliva_id\": 2, \"barcode_value\":...</td>\n",
       "    </tr>\n",
       "    <tr>\n",
       "      <th>2019-12-07 09:41:57.632000+01:00</th>\n",
       "      <td>barcode_scanned</td>\n",
       "      <td>{\"id\": 103012, \"saliva_id\": 3, \"barcode_value\"...</td>\n",
       "    </tr>\n",
       "    <tr>\n",
       "      <th>2019-12-07 09:57:08.113000+01:00</th>\n",
       "      <td>barcode_scanned</td>\n",
       "      <td>{\"id\": 135779, \"saliva_id\": 4, \"barcode_value\"...</td>\n",
       "    </tr>\n",
       "    <tr>\n",
       "      <th>2019-12-07 23:35:08.212000+01:00</th>\n",
       "      <td>barcode_scanned</td>\n",
       "      <td>{\"id\": 815, \"saliva_id\": 5, \"barcode_value\": \"...</td>\n",
       "    </tr>\n",
       "  </tbody>\n",
       "</table>\n",
       "</div>"
      ],
      "text/plain": [
       "                                           action  \\\n",
       "time                                                \n",
       "2019-12-05 22:41:18.723000+01:00  barcode_scanned   \n",
       "2019-12-06 08:52:42.569000+01:00  barcode_scanned   \n",
       "2019-12-06 09:08:01.685000+01:00  barcode_scanned   \n",
       "2019-12-06 09:23:18.166000+01:00  barcode_scanned   \n",
       "2019-12-06 09:38:36.232000+01:00  barcode_scanned   \n",
       "2019-12-06 09:53:50.331000+01:00  barcode_scanned   \n",
       "2019-12-06 23:24:39.316000+01:00  barcode_scanned   \n",
       "2019-12-07 08:56:22.795000+01:00  barcode_scanned   \n",
       "2019-12-07 09:11:36.360000+01:00  barcode_scanned   \n",
       "2019-12-07 09:26:44.887000+01:00  barcode_scanned   \n",
       "2019-12-07 09:41:57.632000+01:00  barcode_scanned   \n",
       "2019-12-07 09:57:08.113000+01:00  barcode_scanned   \n",
       "2019-12-07 23:35:08.212000+01:00  barcode_scanned   \n",
       "\n",
       "                                                                             extras  \n",
       "time                                                                                 \n",
       "2019-12-05 22:41:18.723000+01:00  {\"id\": 815, \"saliva_id\": 5, \"barcode_value\": \"...  \n",
       "2019-12-06 08:52:42.569000+01:00  {\"id\": 4711, \"saliva_id\": 0, \"barcode_value\": ...  \n",
       "2019-12-06 09:08:01.685000+01:00  {\"id\": 37478, \"saliva_id\": 1, \"barcode_value\":...  \n",
       "2019-12-06 09:23:18.166000+01:00  {\"id\": 70245, \"saliva_id\": 2, \"barcode_value\":...  \n",
       "2019-12-06 09:38:36.232000+01:00  {\"id\": 103012, \"saliva_id\": 3, \"barcode_value\"...  \n",
       "2019-12-06 09:53:50.331000+01:00  {\"id\": 135779, \"saliva_id\": 4, \"barcode_value\"...  \n",
       "2019-12-06 23:24:39.316000+01:00  {\"id\": 815, \"saliva_id\": 5, \"barcode_value\": \"...  \n",
       "2019-12-07 08:56:22.795000+01:00  {\"id\": 4711, \"saliva_id\": 0, \"barcode_value\": ...  \n",
       "2019-12-07 09:11:36.360000+01:00  {\"id\": 37478, \"saliva_id\": 1, \"barcode_value\":...  \n",
       "2019-12-07 09:26:44.887000+01:00  {\"id\": 70245, \"saliva_id\": 2, \"barcode_value\":...  \n",
       "2019-12-07 09:41:57.632000+01:00  {\"id\": 103012, \"saliva_id\": 3, \"barcode_value\"...  \n",
       "2019-12-07 09:57:08.113000+01:00  {\"id\": 135779, \"saliva_id\": 4, \"barcode_value\"...  \n",
       "2019-12-07 23:35:08.212000+01:00  {\"id\": 815, \"saliva_id\": 5, \"barcode_value\": \"...  "
      ]
     },
     "execution_count": 14,
     "metadata": {},
     "output_type": "execute_result"
    }
   ],
   "source": [
    "log.filter_logs(action=\"barcode_scanned\")"
   ]
  },
  {
   "cell_type": "markdown",
   "metadata": {},
   "source": [
    "Filter by Date"
   ]
  },
  {
   "cell_type": "code",
   "execution_count": 15,
   "metadata": {
    "collapsed": false,
    "jupyter": {
     "outputs_hidden": false
    },
    "tags": []
   },
   "outputs": [
    {
     "data": {
      "text/html": [
       "<div>\n",
       "<style scoped>\n",
       "    .dataframe tbody tr th:only-of-type {\n",
       "        vertical-align: middle;\n",
       "    }\n",
       "\n",
       "    .dataframe tbody tr th {\n",
       "        vertical-align: top;\n",
       "    }\n",
       "\n",
       "    .dataframe thead th {\n",
       "        text-align: right;\n",
       "    }\n",
       "</style>\n",
       "<table border=\"1\" class=\"dataframe\">\n",
       "  <thead>\n",
       "    <tr style=\"text-align: right;\">\n",
       "      <th></th>\n",
       "      <th>action</th>\n",
       "      <th>extras</th>\n",
       "    </tr>\n",
       "    <tr>\n",
       "      <th>time</th>\n",
       "      <th></th>\n",
       "      <th></th>\n",
       "    </tr>\n",
       "  </thead>\n",
       "  <tbody>\n",
       "    <tr>\n",
       "      <th>2019-12-06 08:51:58.756000+01:00</th>\n",
       "      <td>user_present</td>\n",
       "      <td>{}</td>\n",
       "    </tr>\n",
       "    <tr>\n",
       "      <th>2019-12-06 08:51:59.444000+01:00</th>\n",
       "      <td>screen_on</td>\n",
       "      <td>{}</td>\n",
       "    </tr>\n",
       "    <tr>\n",
       "      <th>2019-12-06 08:52:23.594000+01:00</th>\n",
       "      <td>spontaneous_awakening</td>\n",
       "      <td>{\"id\": 4711}</td>\n",
       "    </tr>\n",
       "    <tr>\n",
       "      <th>2019-12-06 08:52:26.033000+01:00</th>\n",
       "      <td>service_stopped</td>\n",
       "      <td>{}</td>\n",
       "    </tr>\n",
       "    <tr>\n",
       "      <th>2019-12-06 08:52:26.234000+01:00</th>\n",
       "      <td>barcode_scan_init</td>\n",
       "      <td>{}</td>\n",
       "    </tr>\n",
       "  </tbody>\n",
       "</table>\n",
       "</div>"
      ],
      "text/plain": [
       "                                                 action        extras\n",
       "time                                                                 \n",
       "2019-12-06 08:51:58.756000+01:00           user_present            {}\n",
       "2019-12-06 08:51:59.444000+01:00              screen_on            {}\n",
       "2019-12-06 08:52:23.594000+01:00  spontaneous_awakening  {\"id\": 4711}\n",
       "2019-12-06 08:52:26.033000+01:00        service_stopped            {}\n",
       "2019-12-06 08:52:26.234000+01:00      barcode_scan_init            {}"
      ]
     },
     "execution_count": 15,
     "metadata": {},
     "output_type": "execute_result"
    }
   ],
   "source": [
    "log.filter_logs(date=\"2019-12-06\").head()"
   ]
  },
  {
   "cell_type": "markdown",
   "metadata": {},
   "source": [
    "Select one folder, import the participant logs, and convert them into a dataframe"
   ]
  },
  {
   "cell_type": "markdown",
   "metadata": {},
   "source": [
    "### Export"
   ]
  },
  {
   "cell_type": "code",
   "execution_count": 10,
   "metadata": {
    "tags": []
   },
   "outputs": [
    {
     "data": {
      "text/html": [
       "<div>\n",
       "<style scoped>\n",
       "    .dataframe tbody tr th:only-of-type {\n",
       "        vertical-align: middle;\n",
       "    }\n",
       "\n",
       "    .dataframe tbody tr th {\n",
       "        vertical-align: top;\n",
       "    }\n",
       "\n",
       "    .dataframe thead th {\n",
       "        text-align: right;\n",
       "    }\n",
       "</style>\n",
       "<table border=\"1\" class=\"dataframe\">\n",
       "  <thead>\n",
       "    <tr style=\"text-align: right;\">\n",
       "      <th></th>\n",
       "      <th>action</th>\n",
       "      <th>extras</th>\n",
       "    </tr>\n",
       "    <tr>\n",
       "      <th>time</th>\n",
       "      <th></th>\n",
       "      <th></th>\n",
       "    </tr>\n",
       "  </thead>\n",
       "  <tbody>\n",
       "    <tr>\n",
       "      <th>2019-12-05 11:04:47.285000+01:00</th>\n",
       "      <td>subject_id_set</td>\n",
       "      <td>{\"subject_id\": \"GH56I\", \"subject_condition\": \"...</td>\n",
       "    </tr>\n",
       "    <tr>\n",
       "      <th>2019-12-05 11:04:47.285000+01:00</th>\n",
       "      <td>app_metadata</td>\n",
       "      <td>{\"version_code\": 10100, \"version_name\": \"1.1.0...</td>\n",
       "    </tr>\n",
       "    <tr>\n",
       "      <th>2019-12-05 11:04:47.285000+01:00</th>\n",
       "      <td>phone_metadata</td>\n",
       "      <td>{\"brand\": \"samsung\", \"manufacturer\": \"samsung\"...</td>\n",
       "    </tr>\n",
       "    <tr>\n",
       "      <th>2019-12-05 22:41:10.918000+01:00</th>\n",
       "      <td>evening_salivette</td>\n",
       "      <td>{\"id\": 815}</td>\n",
       "    </tr>\n",
       "    <tr>\n",
       "      <th>2019-12-05 22:41:13.875000+01:00</th>\n",
       "      <td>barcode_scan_init</td>\n",
       "      <td>{}</td>\n",
       "    </tr>\n",
       "  </tbody>\n",
       "</table>\n",
       "</div>"
      ],
      "text/plain": [
       "                                             action  \\\n",
       "time                                                  \n",
       "2019-12-05 11:04:47.285000+01:00     subject_id_set   \n",
       "2019-12-05 11:04:47.285000+01:00       app_metadata   \n",
       "2019-12-05 11:04:47.285000+01:00     phone_metadata   \n",
       "2019-12-05 22:41:10.918000+01:00  evening_salivette   \n",
       "2019-12-05 22:41:13.875000+01:00  barcode_scan_init   \n",
       "\n",
       "                                                                             extras  \n",
       "time                                                                                 \n",
       "2019-12-05 11:04:47.285000+01:00  {\"subject_id\": \"GH56I\", \"subject_condition\": \"...  \n",
       "2019-12-05 11:04:47.285000+01:00  {\"version_code\": 10100, \"version_name\": \"1.1.0...  \n",
       "2019-12-05 11:04:47.285000+01:00  {\"brand\": \"samsung\", \"manufacturer\": \"samsung\"...  \n",
       "2019-12-05 22:41:10.918000+01:00                                        {\"id\": 815}  \n",
       "2019-12-05 22:41:13.875000+01:00                                                 {}  "
      ]
     },
     "execution_count": 10,
     "metadata": {},
     "output_type": "execute_result"
    }
   ],
   "source": [
    "# Load log data from folder\n",
    "log = ParticipantLogs.from_folder(log_folders[-1])\n",
    "df = log.data_as_df()\n",
    "df.head()"
   ]
  },
  {
   "cell_type": "code",
   "execution_count": 11,
   "metadata": {
    "tags": []
   },
   "outputs": [
    {
     "data": {
      "text/html": [
       "<div>\n",
       "<style scoped>\n",
       "    .dataframe tbody tr th:only-of-type {\n",
       "        vertical-align: middle;\n",
       "    }\n",
       "\n",
       "    .dataframe tbody tr th {\n",
       "        vertical-align: top;\n",
       "    }\n",
       "\n",
       "    .dataframe thead th {\n",
       "        text-align: right;\n",
       "    }\n",
       "</style>\n",
       "<table border=\"1\" class=\"dataframe\">\n",
       "  <thead>\n",
       "    <tr style=\"text-align: right;\">\n",
       "      <th></th>\n",
       "      <th></th>\n",
       "      <th>timestamp</th>\n",
       "      <th>awakening_time</th>\n",
       "      <th>awakening_type</th>\n",
       "    </tr>\n",
       "    <tr>\n",
       "      <th>date</th>\n",
       "      <th>day_id</th>\n",
       "      <th></th>\n",
       "      <th></th>\n",
       "      <th></th>\n",
       "    </tr>\n",
       "  </thead>\n",
       "  <tbody>\n",
       "    <tr>\n",
       "      <th>2019-12-06</th>\n",
       "      <th>1</th>\n",
       "      <td>2019-12-06 08:52:23.594000+01:00</td>\n",
       "      <td>08:52:23</td>\n",
       "      <td>self-report</td>\n",
       "    </tr>\n",
       "    <tr>\n",
       "      <th>2019-12-07</th>\n",
       "      <th>2</th>\n",
       "      <td>2019-12-07 08:56:12.929000+01:00</td>\n",
       "      <td>08:56:12</td>\n",
       "      <td>self-report</td>\n",
       "    </tr>\n",
       "    <tr>\n",
       "      <th>2019-12-08</th>\n",
       "      <th>3</th>\n",
       "      <td>2019-12-08 08:34:12.118000+01:00</td>\n",
       "      <td>08:34:12</td>\n",
       "      <td>self-report</td>\n",
       "    </tr>\n",
       "  </tbody>\n",
       "</table>\n",
       "</div>"
      ],
      "text/plain": [
       "                                         timestamp awakening_time  \\\n",
       "date       day_id                                                   \n",
       "2019-12-06 1      2019-12-06 08:52:23.594000+01:00       08:52:23   \n",
       "2019-12-07 2      2019-12-07 08:56:12.929000+01:00       08:56:12   \n",
       "2019-12-08 3      2019-12-08 08:34:12.118000+01:00       08:34:12   \n",
       "\n",
       "                  awakening_type  \n",
       "date       day_id                 \n",
       "2019-12-06 1         self-report  \n",
       "2019-12-07 2         self-report  \n",
       "2019-12-08 3         self-report  "
      ]
     },
     "execution_count": 11,
     "metadata": {},
     "output_type": "execute_result"
    }
   ],
   "source": [
    "log.awakening_times()"
   ]
  },
  {
   "cell_type": "code",
   "execution_count": 12,
   "metadata": {
    "tags": []
   },
   "outputs": [
    {
     "data": {
      "text/html": [
       "<div>\n",
       "<style scoped>\n",
       "    .dataframe tbody tr th:only-of-type {\n",
       "        vertical-align: middle;\n",
       "    }\n",
       "\n",
       "    .dataframe tbody tr th {\n",
       "        vertical-align: top;\n",
       "    }\n",
       "\n",
       "    .dataframe thead th {\n",
       "        text-align: right;\n",
       "    }\n",
       "</style>\n",
       "<table border=\"1\" class=\"dataframe\">\n",
       "  <thead>\n",
       "    <tr style=\"text-align: right;\">\n",
       "      <th></th>\n",
       "      <th></th>\n",
       "      <th></th>\n",
       "      <th></th>\n",
       "      <th>timestamp</th>\n",
       "      <th>sampling_time</th>\n",
       "    </tr>\n",
       "    <tr>\n",
       "      <th>date</th>\n",
       "      <th>saliva_type</th>\n",
       "      <th>saliva_id</th>\n",
       "      <th>day_id</th>\n",
       "      <th></th>\n",
       "      <th></th>\n",
       "    </tr>\n",
       "  </thead>\n",
       "  <tbody>\n",
       "    <tr>\n",
       "      <th rowspan=\"6\" valign=\"top\">2019-12-06</th>\n",
       "      <th>evening</th>\n",
       "      <th>5</th>\n",
       "      <th>1</th>\n",
       "      <td>2019-12-05 22:41:18.723000+01:00</td>\n",
       "      <td>22:41:18</td>\n",
       "    </tr>\n",
       "    <tr>\n",
       "      <th rowspan=\"5\" valign=\"top\">morning</th>\n",
       "      <th>0</th>\n",
       "      <th>1</th>\n",
       "      <td>2019-12-06 08:52:42.569000+01:00</td>\n",
       "      <td>08:52:42</td>\n",
       "    </tr>\n",
       "    <tr>\n",
       "      <th>1</th>\n",
       "      <th>1</th>\n",
       "      <td>2019-12-06 09:08:01.685000+01:00</td>\n",
       "      <td>09:08:01</td>\n",
       "    </tr>\n",
       "    <tr>\n",
       "      <th>2</th>\n",
       "      <th>1</th>\n",
       "      <td>2019-12-06 09:23:18.166000+01:00</td>\n",
       "      <td>09:23:18</td>\n",
       "    </tr>\n",
       "    <tr>\n",
       "      <th>3</th>\n",
       "      <th>1</th>\n",
       "      <td>2019-12-06 09:38:36.232000+01:00</td>\n",
       "      <td>09:38:36</td>\n",
       "    </tr>\n",
       "    <tr>\n",
       "      <th>4</th>\n",
       "      <th>1</th>\n",
       "      <td>2019-12-06 09:53:50.331000+01:00</td>\n",
       "      <td>09:53:50</td>\n",
       "    </tr>\n",
       "    <tr>\n",
       "      <th rowspan=\"6\" valign=\"top\">2019-12-07</th>\n",
       "      <th>evening</th>\n",
       "      <th>5</th>\n",
       "      <th>2</th>\n",
       "      <td>2019-12-06 23:24:39.316000+01:00</td>\n",
       "      <td>23:24:39</td>\n",
       "    </tr>\n",
       "    <tr>\n",
       "      <th rowspan=\"5\" valign=\"top\">morning</th>\n",
       "      <th>0</th>\n",
       "      <th>2</th>\n",
       "      <td>2019-12-07 08:56:22.795000+01:00</td>\n",
       "      <td>08:56:22</td>\n",
       "    </tr>\n",
       "    <tr>\n",
       "      <th>1</th>\n",
       "      <th>2</th>\n",
       "      <td>2019-12-07 09:11:36.360000+01:00</td>\n",
       "      <td>09:11:36</td>\n",
       "    </tr>\n",
       "    <tr>\n",
       "      <th>2</th>\n",
       "      <th>2</th>\n",
       "      <td>2019-12-07 09:26:44.887000+01:00</td>\n",
       "      <td>09:26:44</td>\n",
       "    </tr>\n",
       "    <tr>\n",
       "      <th>3</th>\n",
       "      <th>2</th>\n",
       "      <td>2019-12-07 09:41:57.632000+01:00</td>\n",
       "      <td>09:41:57</td>\n",
       "    </tr>\n",
       "    <tr>\n",
       "      <th>4</th>\n",
       "      <th>2</th>\n",
       "      <td>2019-12-07 09:57:08.113000+01:00</td>\n",
       "      <td>09:57:08</td>\n",
       "    </tr>\n",
       "    <tr>\n",
       "      <th>2019-12-08</th>\n",
       "      <th>evening</th>\n",
       "      <th>5</th>\n",
       "      <th>3</th>\n",
       "      <td>2019-12-07 23:35:08.212000+01:00</td>\n",
       "      <td>23:35:08</td>\n",
       "    </tr>\n",
       "  </tbody>\n",
       "</table>\n",
       "</div>"
      ],
      "text/plain": [
       "                                                               timestamp  \\\n",
       "date       saliva_type saliva_id day_id                                    \n",
       "2019-12-06 evening     5         1      2019-12-05 22:41:18.723000+01:00   \n",
       "           morning     0         1      2019-12-06 08:52:42.569000+01:00   \n",
       "                       1         1      2019-12-06 09:08:01.685000+01:00   \n",
       "                       2         1      2019-12-06 09:23:18.166000+01:00   \n",
       "                       3         1      2019-12-06 09:38:36.232000+01:00   \n",
       "                       4         1      2019-12-06 09:53:50.331000+01:00   \n",
       "2019-12-07 evening     5         2      2019-12-06 23:24:39.316000+01:00   \n",
       "           morning     0         2      2019-12-07 08:56:22.795000+01:00   \n",
       "                       1         2      2019-12-07 09:11:36.360000+01:00   \n",
       "                       2         2      2019-12-07 09:26:44.887000+01:00   \n",
       "                       3         2      2019-12-07 09:41:57.632000+01:00   \n",
       "                       4         2      2019-12-07 09:57:08.113000+01:00   \n",
       "2019-12-08 evening     5         3      2019-12-07 23:35:08.212000+01:00   \n",
       "\n",
       "                                        sampling_time  \n",
       "date       saliva_type saliva_id day_id                \n",
       "2019-12-06 evening     5         1           22:41:18  \n",
       "           morning     0         1           08:52:42  \n",
       "                       1         1           09:08:01  \n",
       "                       2         1           09:23:18  \n",
       "                       3         1           09:38:36  \n",
       "                       4         1           09:53:50  \n",
       "2019-12-07 evening     5         2           23:24:39  \n",
       "           morning     0         2           08:56:22  \n",
       "                       1         2           09:11:36  \n",
       "                       2         2           09:26:44  \n",
       "                       3         2           09:41:57  \n",
       "                       4         2           09:57:08  \n",
       "2019-12-08 evening     5         3           23:35:08  "
      ]
     },
     "execution_count": 12,
     "metadata": {},
     "output_type": "execute_result"
    }
   ],
   "source": [
    "log.sampling_times()"
   ]
  },
  {
   "cell_type": "code",
   "execution_count": 13,
   "metadata": {
    "tags": []
   },
   "outputs": [
    {
     "data": {
      "text/html": [
       "<div>\n",
       "<style scoped>\n",
       "    .dataframe tbody tr th:only-of-type {\n",
       "        vertical-align: middle;\n",
       "    }\n",
       "\n",
       "    .dataframe tbody tr th {\n",
       "        vertical-align: top;\n",
       "    }\n",
       "\n",
       "    .dataframe thead th {\n",
       "        text-align: right;\n",
       "    }\n",
       "</style>\n",
       "<table border=\"1\" class=\"dataframe\">\n",
       "  <thead>\n",
       "    <tr style=\"text-align: right;\">\n",
       "      <th></th>\n",
       "      <th></th>\n",
       "      <th>awakening_time</th>\n",
       "      <th>awakening_type</th>\n",
       "      <th>sampling_time_0</th>\n",
       "      <th>sampling_time_1</th>\n",
       "      <th>sampling_time_2</th>\n",
       "      <th>sampling_time_3</th>\n",
       "      <th>sampling_time_4</th>\n",
       "      <th>sampling_time_5</th>\n",
       "    </tr>\n",
       "    <tr>\n",
       "      <th>date</th>\n",
       "      <th>day_id</th>\n",
       "      <th></th>\n",
       "      <th></th>\n",
       "      <th></th>\n",
       "      <th></th>\n",
       "      <th></th>\n",
       "      <th></th>\n",
       "      <th></th>\n",
       "      <th></th>\n",
       "    </tr>\n",
       "  </thead>\n",
       "  <tbody>\n",
       "    <tr>\n",
       "      <th>2019-12-06</th>\n",
       "      <th>1</th>\n",
       "      <td>08:52:23</td>\n",
       "      <td>self-report</td>\n",
       "      <td>08:52:42</td>\n",
       "      <td>09:08:01</td>\n",
       "      <td>09:23:18</td>\n",
       "      <td>09:38:36</td>\n",
       "      <td>09:53:50</td>\n",
       "      <td>22:41:18</td>\n",
       "    </tr>\n",
       "    <tr>\n",
       "      <th>2019-12-07</th>\n",
       "      <th>2</th>\n",
       "      <td>08:56:12</td>\n",
       "      <td>self-report</td>\n",
       "      <td>08:56:22</td>\n",
       "      <td>09:11:36</td>\n",
       "      <td>09:26:44</td>\n",
       "      <td>09:41:57</td>\n",
       "      <td>09:57:08</td>\n",
       "      <td>23:24:39</td>\n",
       "    </tr>\n",
       "    <tr>\n",
       "      <th>2019-12-08</th>\n",
       "      <th>3</th>\n",
       "      <td>08:34:12</td>\n",
       "      <td>self-report</td>\n",
       "      <td>NaN</td>\n",
       "      <td>NaN</td>\n",
       "      <td>NaN</td>\n",
       "      <td>NaN</td>\n",
       "      <td>NaN</td>\n",
       "      <td>23:35:08</td>\n",
       "    </tr>\n",
       "  </tbody>\n",
       "</table>\n",
       "</div>"
      ],
      "text/plain": [
       "                  awakening_time awakening_type sampling_time_0  \\\n",
       "date       day_id                                                 \n",
       "2019-12-06 1            08:52:23    self-report        08:52:42   \n",
       "2019-12-07 2            08:56:12    self-report        08:56:22   \n",
       "2019-12-08 3            08:34:12    self-report             NaN   \n",
       "\n",
       "                  sampling_time_1 sampling_time_2 sampling_time_3  \\\n",
       "date       day_id                                                   \n",
       "2019-12-06 1             09:08:01        09:23:18        09:38:36   \n",
       "2019-12-07 2             09:11:36        09:26:44        09:41:57   \n",
       "2019-12-08 3                  NaN             NaN             NaN   \n",
       "\n",
       "                  sampling_time_4 sampling_time_5  \n",
       "date       day_id                                  \n",
       "2019-12-06 1             09:53:50        22:41:18  \n",
       "2019-12-07 2             09:57:08        23:24:39  \n",
       "2019-12-08 3                  NaN        23:35:08  "
      ]
     },
     "execution_count": 13,
     "metadata": {},
     "output_type": "execute_result"
    }
   ],
   "source": [
    "log.export_times()"
   ]
  },
  {
   "cell_type": "markdown",
   "metadata": {},
   "source": [
    "## Log Files from All Participants (`StudyLogs`)"
   ]
  },
  {
   "cell_type": "markdown",
   "metadata": {},
   "source": [
    "Log files from all participants from a study can be represented by a `StudyLogs` object. This object can be used to load all log files from a study and to process them in a more convenient way."
   ]
  },
  {
   "cell_type": "markdown",
   "metadata": {},
   "source": [
    "### Import"
   ]
  },
  {
   "cell_type": "markdown",
   "metadata": {},
   "source": [
    "#### From Folder"
   ]
  },
  {
   "cell_type": "code",
   "execution_count": 16,
   "metadata": {
    "collapsed": false,
    "jupyter": {
     "outputs_hidden": false
    },
    "tags": []
   },
   "outputs": [],
   "source": [
    "study_logs = StudyLogs.from_folder(base_path.joinpath(\"complete/zip_files\"))"
   ]
  },
  {
   "cell_type": "markdown",
   "metadata": {},
   "source": [
    "Study information"
   ]
  },
  {
   "cell_type": "code",
   "execution_count": 17,
   "metadata": {
    "collapsed": false,
    "jupyter": {
     "outputs_hidden": false
    },
    "tags": []
   },
   "outputs": [
    {
     "name": "stdout",
     "output_type": "stream",
     "text": [
      "Participants: ['AB12C', 'DE34F', 'GH56I']\n"
     ]
    }
   ],
   "source": [
    "print(f\"Participants: {study_logs.participants}\")"
   ]
  },
  {
   "cell_type": "markdown",
   "metadata": {},
   "source": [
    "Iterate through all participants"
   ]
  },
  {
   "cell_type": "code",
   "execution_count": 18,
   "metadata": {
    "collapsed": false,
    "jupyter": {
     "outputs_hidden": false
    },
    "tags": []
   },
   "outputs": [
    {
     "name": "stdout",
     "output_type": "stream",
     "text": [
      "<carwatch.logs._participant_logs.ParticipantLogs object at 0x7f86bc9988b0>\n",
      "<carwatch.logs._participant_logs.ParticipantLogs object at 0x7f86bc938d60>\n",
      "<carwatch.logs._participant_logs.ParticipantLogs object at 0x7f86bc938310>\n"
     ]
    }
   ],
   "source": [
    "for key in study_logs:\n",
    "    print(study_logs[key])"
   ]
  },
  {
   "cell_type": "markdown",
   "metadata": {},
   "source": [
    "Convert data to dataframe"
   ]
  },
  {
   "cell_type": "markdown",
   "metadata": {},
   "source": [
    "#### Export Data"
   ]
  },
  {
   "cell_type": "code",
   "execution_count": 19,
   "metadata": {
    "collapsed": false,
    "jupyter": {
     "outputs_hidden": false
    },
    "tags": []
   },
   "outputs": [
    {
     "data": {
      "text/html": [
       "<div>\n",
       "<style scoped>\n",
       "    .dataframe tbody tr th:only-of-type {\n",
       "        vertical-align: middle;\n",
       "    }\n",
       "\n",
       "    .dataframe tbody tr th {\n",
       "        vertical-align: top;\n",
       "    }\n",
       "\n",
       "    .dataframe thead th {\n",
       "        text-align: right;\n",
       "    }\n",
       "</style>\n",
       "<table border=\"1\" class=\"dataframe\">\n",
       "  <thead>\n",
       "    <tr style=\"text-align: right;\">\n",
       "      <th></th>\n",
       "      <th></th>\n",
       "      <th>action</th>\n",
       "      <th>extras</th>\n",
       "    </tr>\n",
       "    <tr>\n",
       "      <th>subject</th>\n",
       "      <th>time</th>\n",
       "      <th></th>\n",
       "      <th></th>\n",
       "    </tr>\n",
       "  </thead>\n",
       "  <tbody>\n",
       "    <tr>\n",
       "      <th rowspan=\"5\" valign=\"top\">AB12C</th>\n",
       "      <th>2019-12-05 10:50:29.038000+01:00</th>\n",
       "      <td>subject_id_set</td>\n",
       "      <td>{\"subject_id\": \"AB12C\", \"subject_condition\": \"...</td>\n",
       "    </tr>\n",
       "    <tr>\n",
       "      <th>2019-12-05 10:50:29.039000+01:00</th>\n",
       "      <td>app_metadata</td>\n",
       "      <td>{\"version_code\": 10100, \"version_name\": \"1.1.0...</td>\n",
       "    </tr>\n",
       "    <tr>\n",
       "      <th>2019-12-05 10:50:29.039000+01:00</th>\n",
       "      <td>phone_metadata</td>\n",
       "      <td>{\"brand\": \"OnePlus\", \"manufacturer\": \"OnePlus\"...</td>\n",
       "    </tr>\n",
       "    <tr>\n",
       "      <th>2019-12-06 22:53:11.157000+01:00</th>\n",
       "      <td>evening_salivette</td>\n",
       "      <td>{\"id\": 815}</td>\n",
       "    </tr>\n",
       "    <tr>\n",
       "      <th>2019-12-06 22:53:15.200000+01:00</th>\n",
       "      <td>barcode_scan_init</td>\n",
       "      <td>{}</td>\n",
       "    </tr>\n",
       "    <tr>\n",
       "      <th>...</th>\n",
       "      <th>...</th>\n",
       "      <td>...</td>\n",
       "      <td>...</td>\n",
       "    </tr>\n",
       "    <tr>\n",
       "      <th rowspan=\"5\" valign=\"top\">GH56I</th>\n",
       "      <th>2019-12-08 08:34:12.118000+01:00</th>\n",
       "      <td>spontaneous_awakening</td>\n",
       "      <td>{\"id\": 4711}</td>\n",
       "    </tr>\n",
       "    <tr>\n",
       "      <th>2019-12-08 08:34:14.005000+01:00</th>\n",
       "      <td>service_stopped</td>\n",
       "      <td>{}</td>\n",
       "    </tr>\n",
       "    <tr>\n",
       "      <th>2019-12-08 08:34:14.147000+01:00</th>\n",
       "      <td>barcode_scan_init</td>\n",
       "      <td>{}</td>\n",
       "    </tr>\n",
       "    <tr>\n",
       "      <th>2019-12-08 08:36:16.943000+01:00</th>\n",
       "      <td>barcode_scan_init</td>\n",
       "      <td>{}</td>\n",
       "    </tr>\n",
       "    <tr>\n",
       "      <th>2019-12-08 08:36:22.886000+01:00</th>\n",
       "      <td>barcode_scan_init</td>\n",
       "      <td>{}</td>\n",
       "    </tr>\n",
       "  </tbody>\n",
       "</table>\n",
       "<p>265 rows × 2 columns</p>\n",
       "</div>"
      ],
      "text/plain": [
       "                                                         action  \\\n",
       "subject time                                                      \n",
       "AB12C   2019-12-05 10:50:29.038000+01:00         subject_id_set   \n",
       "        2019-12-05 10:50:29.039000+01:00           app_metadata   \n",
       "        2019-12-05 10:50:29.039000+01:00         phone_metadata   \n",
       "        2019-12-06 22:53:11.157000+01:00      evening_salivette   \n",
       "        2019-12-06 22:53:15.200000+01:00      barcode_scan_init   \n",
       "...                                                         ...   \n",
       "GH56I   2019-12-08 08:34:12.118000+01:00  spontaneous_awakening   \n",
       "        2019-12-08 08:34:14.005000+01:00        service_stopped   \n",
       "        2019-12-08 08:34:14.147000+01:00      barcode_scan_init   \n",
       "        2019-12-08 08:36:16.943000+01:00      barcode_scan_init   \n",
       "        2019-12-08 08:36:22.886000+01:00      barcode_scan_init   \n",
       "\n",
       "                                                                                     extras  \n",
       "subject time                                                                                 \n",
       "AB12C   2019-12-05 10:50:29.038000+01:00  {\"subject_id\": \"AB12C\", \"subject_condition\": \"...  \n",
       "        2019-12-05 10:50:29.039000+01:00  {\"version_code\": 10100, \"version_name\": \"1.1.0...  \n",
       "        2019-12-05 10:50:29.039000+01:00  {\"brand\": \"OnePlus\", \"manufacturer\": \"OnePlus\"...  \n",
       "        2019-12-06 22:53:11.157000+01:00                                        {\"id\": 815}  \n",
       "        2019-12-06 22:53:15.200000+01:00                                                 {}  \n",
       "...                                                                                     ...  \n",
       "GH56I   2019-12-08 08:34:12.118000+01:00                                       {\"id\": 4711}  \n",
       "        2019-12-08 08:34:14.005000+01:00                                                 {}  \n",
       "        2019-12-08 08:34:14.147000+01:00                                                 {}  \n",
       "        2019-12-08 08:36:16.943000+01:00                                                 {}  \n",
       "        2019-12-08 08:36:22.886000+01:00                                                 {}  \n",
       "\n",
       "[265 rows x 2 columns]"
      ]
     },
     "execution_count": 19,
     "metadata": {},
     "output_type": "execute_result"
    }
   ],
   "source": [
    "study_logs.data_as_df()"
   ]
  },
  {
   "cell_type": "markdown",
   "metadata": {},
   "source": [
    "Export awakening and saliva sampling times"
   ]
  },
  {
   "cell_type": "code",
   "execution_count": 20,
   "metadata": {
    "tags": []
   },
   "outputs": [
    {
     "data": {
      "text/html": [
       "<div>\n",
       "<style scoped>\n",
       "    .dataframe tbody tr th:only-of-type {\n",
       "        vertical-align: middle;\n",
       "    }\n",
       "\n",
       "    .dataframe tbody tr th {\n",
       "        vertical-align: top;\n",
       "    }\n",
       "\n",
       "    .dataframe thead th {\n",
       "        text-align: right;\n",
       "    }\n",
       "</style>\n",
       "<table border=\"1\" class=\"dataframe\">\n",
       "  <thead>\n",
       "    <tr style=\"text-align: right;\">\n",
       "      <th></th>\n",
       "      <th></th>\n",
       "      <th></th>\n",
       "      <th>awakening_time</th>\n",
       "      <th>awakening_type</th>\n",
       "      <th>sampling_time_0</th>\n",
       "      <th>sampling_time_1</th>\n",
       "      <th>sampling_time_2</th>\n",
       "      <th>sampling_time_3</th>\n",
       "      <th>sampling_time_4</th>\n",
       "      <th>sampling_time_5</th>\n",
       "    </tr>\n",
       "    <tr>\n",
       "      <th>subject</th>\n",
       "      <th>date</th>\n",
       "      <th>day_id</th>\n",
       "      <th></th>\n",
       "      <th></th>\n",
       "      <th></th>\n",
       "      <th></th>\n",
       "      <th></th>\n",
       "      <th></th>\n",
       "      <th></th>\n",
       "      <th></th>\n",
       "    </tr>\n",
       "  </thead>\n",
       "  <tbody>\n",
       "    <tr>\n",
       "      <th rowspan=\"3\" valign=\"top\">AB12C</th>\n",
       "      <th>2019-12-07</th>\n",
       "      <th>1</th>\n",
       "      <td>07:31:16</td>\n",
       "      <td>self-report</td>\n",
       "      <td>07:32:29</td>\n",
       "      <td>07:47:50</td>\n",
       "      <td>08:03:05</td>\n",
       "      <td>08:18:12</td>\n",
       "      <td>08:33:19</td>\n",
       "      <td>22:53:22</td>\n",
       "    </tr>\n",
       "    <tr>\n",
       "      <th>2019-12-08</th>\n",
       "      <th>2</th>\n",
       "      <td>08:46:43</td>\n",
       "      <td>self-report</td>\n",
       "      <td>08:47:31</td>\n",
       "      <td>09:02:43</td>\n",
       "      <td>09:17:53</td>\n",
       "      <td>09:32:58</td>\n",
       "      <td>09:48:05</td>\n",
       "      <td>23:52:43</td>\n",
       "    </tr>\n",
       "    <tr>\n",
       "      <th>2019-12-09</th>\n",
       "      <th>3</th>\n",
       "      <td>NaN</td>\n",
       "      <td>NaN</td>\n",
       "      <td>NaN</td>\n",
       "      <td>NaN</td>\n",
       "      <td>NaN</td>\n",
       "      <td>NaN</td>\n",
       "      <td>NaN</td>\n",
       "      <td>22:29:10</td>\n",
       "    </tr>\n",
       "    <tr>\n",
       "      <th rowspan=\"3\" valign=\"top\">DE34F</th>\n",
       "      <th>2019-12-07</th>\n",
       "      <th>1</th>\n",
       "      <td>07:31:16</td>\n",
       "      <td>self-report</td>\n",
       "      <td>07:32:29</td>\n",
       "      <td>07:47:50</td>\n",
       "      <td>08:03:05</td>\n",
       "      <td>08:18:12</td>\n",
       "      <td>08:33:19</td>\n",
       "      <td>22:53:22</td>\n",
       "    </tr>\n",
       "    <tr>\n",
       "      <th>2019-12-08</th>\n",
       "      <th>2</th>\n",
       "      <td>08:46:43</td>\n",
       "      <td>self-report</td>\n",
       "      <td>08:47:31</td>\n",
       "      <td>09:02:43</td>\n",
       "      <td>09:17:53</td>\n",
       "      <td>09:32:58</td>\n",
       "      <td>09:48:05</td>\n",
       "      <td>23:52:43</td>\n",
       "    </tr>\n",
       "    <tr>\n",
       "      <th>2019-12-09</th>\n",
       "      <th>3</th>\n",
       "      <td>NaN</td>\n",
       "      <td>NaN</td>\n",
       "      <td>NaN</td>\n",
       "      <td>NaN</td>\n",
       "      <td>NaN</td>\n",
       "      <td>NaN</td>\n",
       "      <td>NaN</td>\n",
       "      <td>22:29:10</td>\n",
       "    </tr>\n",
       "    <tr>\n",
       "      <th rowspan=\"3\" valign=\"top\">GH56I</th>\n",
       "      <th>2019-12-06</th>\n",
       "      <th>1</th>\n",
       "      <td>08:52:23</td>\n",
       "      <td>self-report</td>\n",
       "      <td>08:52:42</td>\n",
       "      <td>09:08:01</td>\n",
       "      <td>09:23:18</td>\n",
       "      <td>09:38:36</td>\n",
       "      <td>09:53:50</td>\n",
       "      <td>22:41:18</td>\n",
       "    </tr>\n",
       "    <tr>\n",
       "      <th>2019-12-07</th>\n",
       "      <th>2</th>\n",
       "      <td>08:56:12</td>\n",
       "      <td>self-report</td>\n",
       "      <td>08:56:22</td>\n",
       "      <td>09:11:36</td>\n",
       "      <td>09:26:44</td>\n",
       "      <td>09:41:57</td>\n",
       "      <td>09:57:08</td>\n",
       "      <td>23:24:39</td>\n",
       "    </tr>\n",
       "    <tr>\n",
       "      <th>2019-12-08</th>\n",
       "      <th>3</th>\n",
       "      <td>08:34:12</td>\n",
       "      <td>self-report</td>\n",
       "      <td>NaN</td>\n",
       "      <td>NaN</td>\n",
       "      <td>NaN</td>\n",
       "      <td>NaN</td>\n",
       "      <td>NaN</td>\n",
       "      <td>23:35:08</td>\n",
       "    </tr>\n",
       "  </tbody>\n",
       "</table>\n",
       "</div>"
      ],
      "text/plain": [
       "                          awakening_time awakening_type sampling_time_0  \\\n",
       "subject date       day_id                                                 \n",
       "AB12C   2019-12-07 1            07:31:16    self-report        07:32:29   \n",
       "        2019-12-08 2            08:46:43    self-report        08:47:31   \n",
       "        2019-12-09 3                 NaN            NaN             NaN   \n",
       "DE34F   2019-12-07 1            07:31:16    self-report        07:32:29   \n",
       "        2019-12-08 2            08:46:43    self-report        08:47:31   \n",
       "        2019-12-09 3                 NaN            NaN             NaN   \n",
       "GH56I   2019-12-06 1            08:52:23    self-report        08:52:42   \n",
       "        2019-12-07 2            08:56:12    self-report        08:56:22   \n",
       "        2019-12-08 3            08:34:12    self-report             NaN   \n",
       "\n",
       "                          sampling_time_1 sampling_time_2 sampling_time_3  \\\n",
       "subject date       day_id                                                   \n",
       "AB12C   2019-12-07 1             07:47:50        08:03:05        08:18:12   \n",
       "        2019-12-08 2             09:02:43        09:17:53        09:32:58   \n",
       "        2019-12-09 3                  NaN             NaN             NaN   \n",
       "DE34F   2019-12-07 1             07:47:50        08:03:05        08:18:12   \n",
       "        2019-12-08 2             09:02:43        09:17:53        09:32:58   \n",
       "        2019-12-09 3                  NaN             NaN             NaN   \n",
       "GH56I   2019-12-06 1             09:08:01        09:23:18        09:38:36   \n",
       "        2019-12-07 2             09:11:36        09:26:44        09:41:57   \n",
       "        2019-12-08 3                  NaN             NaN             NaN   \n",
       "\n",
       "                          sampling_time_4 sampling_time_5  \n",
       "subject date       day_id                                  \n",
       "AB12C   2019-12-07 1             08:33:19        22:53:22  \n",
       "        2019-12-08 2             09:48:05        23:52:43  \n",
       "        2019-12-09 3                  NaN        22:29:10  \n",
       "DE34F   2019-12-07 1             08:33:19        22:53:22  \n",
       "        2019-12-08 2             09:48:05        23:52:43  \n",
       "        2019-12-09 3                  NaN        22:29:10  \n",
       "GH56I   2019-12-06 1             09:53:50        22:41:18  \n",
       "        2019-12-07 2             09:57:08        23:24:39  \n",
       "        2019-12-08 3                  NaN        23:35:08  "
      ]
     },
     "execution_count": 20,
     "metadata": {},
     "output_type": "execute_result"
    }
   ],
   "source": [
    "study_logs.export_times()"
   ]
  },
  {
   "cell_type": "markdown",
   "metadata": {},
   "source": [
    "### Study Statistics"
   ]
  },
  {
   "cell_type": "code",
   "execution_count": 23,
   "metadata": {
    "tags": []
   },
   "outputs": [
    {
     "data": {
      "text/html": [
       "<div>\n",
       "<style scoped>\n",
       "    .dataframe tbody tr th:only-of-type {\n",
       "        vertical-align: middle;\n",
       "    }\n",
       "\n",
       "    .dataframe tbody tr th {\n",
       "        vertical-align: top;\n",
       "    }\n",
       "\n",
       "    .dataframe thead th {\n",
       "        text-align: right;\n",
       "    }\n",
       "</style>\n",
       "<table border=\"1\" class=\"dataframe\">\n",
       "  <thead>\n",
       "    <tr style=\"text-align: right;\">\n",
       "      <th></th>\n",
       "      <th>count</th>\n",
       "    </tr>\n",
       "    <tr>\n",
       "      <th>android_version</th>\n",
       "      <th></th>\n",
       "    </tr>\n",
       "  </thead>\n",
       "  <tbody>\n",
       "    <tr>\n",
       "      <th>28</th>\n",
       "      <td>2</td>\n",
       "    </tr>\n",
       "    <tr>\n",
       "      <th>26</th>\n",
       "      <td>1</td>\n",
       "    </tr>\n",
       "  </tbody>\n",
       "</table>\n",
       "</div>"
      ],
      "text/plain": [
       "                 count\n",
       "android_version       \n",
       "28                   2\n",
       "26                   1"
      ]
     },
     "execution_count": 23,
     "metadata": {},
     "output_type": "execute_result"
    }
   ],
   "source": [
    "study_logs.get_metadata_stats(\"android_version\")"
   ]
  },
  {
   "cell_type": "code",
   "execution_count": 32,
   "metadata": {
    "tags": []
   },
   "outputs": [
    {
     "data": {
      "application/vnd.jupyter.widget-view+json": {
       "model_id": "b107afca3e154ebf9b6c0e68c6424bc3",
       "version_major": 2,
       "version_minor": 0
      },
      "image/png": "[encoded data removed]",
      "text/html": [
       "\n",
       "            <div style=\"display: inline-block;\">\n",
       "                <div class=\"jupyter-widgets widget-label\" style=\"text-align: center;\">\n",
       "                    Figure\n",
       "                </div>\n",
       "                <img src='data:image/png;base64,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' width=400.0/>\n",
       "            </div>\n",
       "        "
      ],
      "text/plain": [
       "Canvas(toolbar=Toolbar(toolitems=[('Home', 'Reset original view', 'home', 'home'), ('Back', 'Back to previous …"
      ]
     },
     "metadata": {},
     "output_type": "display_data"
    }
   ],
   "source": [
    "fig, axs = study_logs.get_metadata_plot(\"android_version\", figsize=(4,2))\n",
    "fig.tight_layout()\n"
   ]
  }
 ],
 "metadata": {
  "kernelspec": {
   "display_name": "carwatch",
   "language": "python",
   "name": "carwatch"
  },
  "language_info": {
   "codemirror_mode": {
    "name": "ipython",
    "version": 3
   },
   "file_extension": ".py",
   "mimetype": "text/x-python",
   "name": "python",
   "nbconvert_exporter": "python",
   "pygments_lexer": "ipython3",
   "version": "3.9.13"
  }
 },
 "nbformat": 4,
 "nbformat_minor": 4
}
